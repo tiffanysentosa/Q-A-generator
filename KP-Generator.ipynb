{
 "cells": [
  {
   "cell_type": "markdown",
   "metadata": {},
   "source": [
    "# Knowledge Point Generator #"
   ]
  },
  {
   "cell_type": "markdown",
   "metadata": {},
   "source": [
    "### TLDR\n",
    "\n",
    "This notebook demonstrates the extraction, processing, and refinement of text from a PDF document, saving key information as a CSV file. The steps involved are:\n",
    "\n",
    "1. **Extract Text from PDF**: Use `PyPDF2` to read and extract text from specified pages.\n",
    "2. **Split Text into Sections**: Divide the extracted text into manageable sections.\n",
    "3. **Extract Key Sentences**: Identify and extract key sentences using regular expressions.\n",
    "4. **Refine Knowledge Points**: Clean and filter the extracted sentences.\n",
    "5. **Save Knowledge Points to CSV**: Convert the refined sentences to a DataFrame and save as a CSV file.\n",
    "\n"
   ]
  },
  {
   "cell_type": "code",
   "execution_count": 1,
   "metadata": {},
   "outputs": [
    {
     "name": "stdout",
     "output_type": "stream",
     "text": [
      "Requirement already satisfied: PyPDF2 in c:\\users\\tiffany\\appdata\\local\\packages\\pythonsoftwarefoundation.python.3.11_qbz5n2kfra8p0\\localcache\\local-packages\\python311\\site-packages (3.0.1)\n",
      "Requirement already satisfied: openai in c:\\users\\tiffany\\appdata\\local\\packages\\pythonsoftwarefoundation.python.3.11_qbz5n2kfra8p0\\localcache\\local-packages\\python311\\site-packages (1.35.4)\n",
      "Requirement already satisfied: pandas in c:\\users\\tiffany\\appdata\\local\\packages\\pythonsoftwarefoundation.python.3.11_qbz5n2kfra8p0\\localcache\\local-packages\\python311\\site-packages (2.2.2)\n",
      "Requirement already satisfied: anyio<5,>=3.5.0 in c:\\users\\tiffany\\appdata\\local\\packages\\pythonsoftwarefoundation.python.3.11_qbz5n2kfra8p0\\localcache\\local-packages\\python311\\site-packages (from openai) (4.3.0)\n",
      "Requirement already satisfied: distro<2,>=1.7.0 in c:\\users\\tiffany\\appdata\\local\\packages\\pythonsoftwarefoundation.python.3.11_qbz5n2kfra8p0\\localcache\\local-packages\\python311\\site-packages (from openai) (1.9.0)\n",
      "Requirement already satisfied: httpx<1,>=0.23.0 in c:\\users\\tiffany\\appdata\\local\\packages\\pythonsoftwarefoundation.python.3.11_qbz5n2kfra8p0\\localcache\\local-packages\\python311\\site-packages (from openai) (0.27.0)\n",
      "Requirement already satisfied: pydantic<3,>=1.9.0 in c:\\users\\tiffany\\appdata\\local\\packages\\pythonsoftwarefoundation.python.3.11_qbz5n2kfra8p0\\localcache\\local-packages\\python311\\site-packages (from openai) (2.7.4)\n",
      "Requirement already satisfied: sniffio in c:\\users\\tiffany\\appdata\\local\\packages\\pythonsoftwarefoundation.python.3.11_qbz5n2kfra8p0\\localcache\\local-packages\\python311\\site-packages (from openai) (1.3.1)\n",
      "Requirement already satisfied: tqdm>4 in c:\\users\\tiffany\\appdata\\local\\packages\\pythonsoftwarefoundation.python.3.11_qbz5n2kfra8p0\\localcache\\local-packages\\python311\\site-packages (from openai) (4.66.4)\n",
      "Requirement already satisfied: typing-extensions<5,>=4.7 in c:\\users\\tiffany\\appdata\\local\\packages\\pythonsoftwarefoundation.python.3.11_qbz5n2kfra8p0\\localcache\\local-packages\\python311\\site-packages (from openai) (4.11.0)\n",
      "Requirement already satisfied: numpy>=1.23.2 in c:\\users\\tiffany\\appdata\\local\\packages\\pythonsoftwarefoundation.python.3.11_qbz5n2kfra8p0\\localcache\\local-packages\\python311\\site-packages (from pandas) (1.26.4)\n",
      "Requirement already satisfied: python-dateutil>=2.8.2 in c:\\users\\tiffany\\appdata\\local\\packages\\pythonsoftwarefoundation.python.3.11_qbz5n2kfra8p0\\localcache\\local-packages\\python311\\site-packages (from pandas) (2.9.0.post0)\n",
      "Requirement already satisfied: pytz>=2020.1 in c:\\users\\tiffany\\appdata\\local\\packages\\pythonsoftwarefoundation.python.3.11_qbz5n2kfra8p0\\localcache\\local-packages\\python311\\site-packages (from pandas) (2024.1)\n",
      "Requirement already satisfied: tzdata>=2022.7 in c:\\users\\tiffany\\appdata\\local\\packages\\pythonsoftwarefoundation.python.3.11_qbz5n2kfra8p0\\localcache\\local-packages\\python311\\site-packages (from pandas) (2024.1)\n",
      "Requirement already satisfied: idna>=2.8 in c:\\users\\tiffany\\appdata\\local\\packages\\pythonsoftwarefoundation.python.3.11_qbz5n2kfra8p0\\localcache\\local-packages\\python311\\site-packages (from anyio<5,>=3.5.0->openai) (3.7)\n",
      "Requirement already satisfied: certifi in c:\\users\\tiffany\\appdata\\local\\packages\\pythonsoftwarefoundation.python.3.11_qbz5n2kfra8p0\\localcache\\local-packages\\python311\\site-packages (from httpx<1,>=0.23.0->openai) (2024.2.2)\n",
      "Requirement already satisfied: httpcore==1.* in c:\\users\\tiffany\\appdata\\local\\packages\\pythonsoftwarefoundation.python.3.11_qbz5n2kfra8p0\\localcache\\local-packages\\python311\\site-packages (from httpx<1,>=0.23.0->openai) (1.0.5)\n",
      "Requirement already satisfied: h11<0.15,>=0.13 in c:\\users\\tiffany\\appdata\\local\\packages\\pythonsoftwarefoundation.python.3.11_qbz5n2kfra8p0\\localcache\\local-packages\\python311\\site-packages (from httpcore==1.*->httpx<1,>=0.23.0->openai) (0.14.0)\n",
      "Requirement already satisfied: annotated-types>=0.4.0 in c:\\users\\tiffany\\appdata\\local\\packages\\pythonsoftwarefoundation.python.3.11_qbz5n2kfra8p0\\localcache\\local-packages\\python311\\site-packages (from pydantic<3,>=1.9.0->openai) (0.7.0)\n",
      "Requirement already satisfied: pydantic-core==2.18.4 in c:\\users\\tiffany\\appdata\\local\\packages\\pythonsoftwarefoundation.python.3.11_qbz5n2kfra8p0\\localcache\\local-packages\\python311\\site-packages (from pydantic<3,>=1.9.0->openai) (2.18.4)\n",
      "Requirement already satisfied: six>=1.5 in c:\\users\\tiffany\\appdata\\local\\packages\\pythonsoftwarefoundation.python.3.11_qbz5n2kfra8p0\\localcache\\local-packages\\python311\\site-packages (from python-dateutil>=2.8.2->pandas) (1.16.0)\n",
      "Requirement already satisfied: colorama in c:\\users\\tiffany\\appdata\\local\\packages\\pythonsoftwarefoundation.python.3.11_qbz5n2kfra8p0\\localcache\\local-packages\\python311\\site-packages (from tqdm>4->openai) (0.4.6)\n"
     ]
    },
    {
     "name": "stderr",
     "output_type": "stream",
     "text": [
      "\n",
      "[notice] A new release of pip is available: 24.0 -> 24.1\n",
      "[notice] To update, run: C:\\Users\\Tiffany\\AppData\\Local\\Microsoft\\WindowsApps\\PythonSoftwareFoundation.Python.3.11_qbz5n2kfra8p0\\python.exe -m pip install --upgrade pip\n"
     ]
    },
    {
     "name": "stdout",
     "output_type": "stream",
     "text": [
      "Requirement already satisfied: anthropic in c:\\users\\tiffany\\appdata\\local\\packages\\pythonsoftwarefoundation.python.3.11_qbz5n2kfra8p0\\localcache\\local-packages\\python311\\site-packages (0.30.0)\n",
      "Requirement already satisfied: anyio<5,>=3.5.0 in c:\\users\\tiffany\\appdata\\local\\packages\\pythonsoftwarefoundation.python.3.11_qbz5n2kfra8p0\\localcache\\local-packages\\python311\\site-packages (from anthropic) (4.3.0)\n",
      "Requirement already satisfied: distro<2,>=1.7.0 in c:\\users\\tiffany\\appdata\\local\\packages\\pythonsoftwarefoundation.python.3.11_qbz5n2kfra8p0\\localcache\\local-packages\\python311\\site-packages (from anthropic) (1.9.0)\n",
      "Requirement already satisfied: httpx<1,>=0.23.0 in c:\\users\\tiffany\\appdata\\local\\packages\\pythonsoftwarefoundation.python.3.11_qbz5n2kfra8p0\\localcache\\local-packages\\python311\\site-packages (from anthropic) (0.27.0)\n",
      "Requirement already satisfied: jiter<1,>=0.4.0 in c:\\users\\tiffany\\appdata\\local\\packages\\pythonsoftwarefoundation.python.3.11_qbz5n2kfra8p0\\localcache\\local-packages\\python311\\site-packages (from anthropic) (0.5.0)\n",
      "Requirement already satisfied: pydantic<3,>=1.9.0 in c:\\users\\tiffany\\appdata\\local\\packages\\pythonsoftwarefoundation.python.3.11_qbz5n2kfra8p0\\localcache\\local-packages\\python311\\site-packages (from anthropic) (2.7.4)\n",
      "Requirement already satisfied: sniffio in c:\\users\\tiffany\\appdata\\local\\packages\\pythonsoftwarefoundation.python.3.11_qbz5n2kfra8p0\\localcache\\local-packages\\python311\\site-packages (from anthropic) (1.3.1)\n",
      "Requirement already satisfied: tokenizers>=0.13.0 in c:\\users\\tiffany\\appdata\\local\\packages\\pythonsoftwarefoundation.python.3.11_qbz5n2kfra8p0\\localcache\\local-packages\\python311\\site-packages (from anthropic) (0.19.1)\n",
      "Requirement already satisfied: typing-extensions<5,>=4.7 in c:\\users\\tiffany\\appdata\\local\\packages\\pythonsoftwarefoundation.python.3.11_qbz5n2kfra8p0\\localcache\\local-packages\\python311\\site-packages (from anthropic) (4.11.0)\n",
      "Requirement already satisfied: idna>=2.8 in c:\\users\\tiffany\\appdata\\local\\packages\\pythonsoftwarefoundation.python.3.11_qbz5n2kfra8p0\\localcache\\local-packages\\python311\\site-packages (from anyio<5,>=3.5.0->anthropic) (3.7)\n",
      "Requirement already satisfied: certifi in c:\\users\\tiffany\\appdata\\local\\packages\\pythonsoftwarefoundation.python.3.11_qbz5n2kfra8p0\\localcache\\local-packages\\python311\\site-packages (from httpx<1,>=0.23.0->anthropic) (2024.2.2)\n",
      "Requirement already satisfied: httpcore==1.* in c:\\users\\tiffany\\appdata\\local\\packages\\pythonsoftwarefoundation.python.3.11_qbz5n2kfra8p0\\localcache\\local-packages\\python311\\site-packages (from httpx<1,>=0.23.0->anthropic) (1.0.5)\n",
      "Requirement already satisfied: h11<0.15,>=0.13 in c:\\users\\tiffany\\appdata\\local\\packages\\pythonsoftwarefoundation.python.3.11_qbz5n2kfra8p0\\localcache\\local-packages\\python311\\site-packages (from httpcore==1.*->httpx<1,>=0.23.0->anthropic) (0.14.0)\n",
      "Requirement already satisfied: annotated-types>=0.4.0 in c:\\users\\tiffany\\appdata\\local\\packages\\pythonsoftwarefoundation.python.3.11_qbz5n2kfra8p0\\localcache\\local-packages\\python311\\site-packages (from pydantic<3,>=1.9.0->anthropic) (0.7.0)\n",
      "Requirement already satisfied: pydantic-core==2.18.4 in c:\\users\\tiffany\\appdata\\local\\packages\\pythonsoftwarefoundation.python.3.11_qbz5n2kfra8p0\\localcache\\local-packages\\python311\\site-packages (from pydantic<3,>=1.9.0->anthropic) (2.18.4)\n",
      "Requirement already satisfied: huggingface-hub<1.0,>=0.16.4 in c:\\users\\tiffany\\appdata\\local\\packages\\pythonsoftwarefoundation.python.3.11_qbz5n2kfra8p0\\localcache\\local-packages\\python311\\site-packages (from tokenizers>=0.13.0->anthropic) (0.23.4)\n",
      "Requirement already satisfied: filelock in c:\\users\\tiffany\\appdata\\local\\packages\\pythonsoftwarefoundation.python.3.11_qbz5n2kfra8p0\\localcache\\local-packages\\python311\\site-packages (from huggingface-hub<1.0,>=0.16.4->tokenizers>=0.13.0->anthropic) (3.14.0)\n",
      "Requirement already satisfied: fsspec>=2023.5.0 in c:\\users\\tiffany\\appdata\\local\\packages\\pythonsoftwarefoundation.python.3.11_qbz5n2kfra8p0\\localcache\\local-packages\\python311\\site-packages (from huggingface-hub<1.0,>=0.16.4->tokenizers>=0.13.0->anthropic) (2024.3.1)\n",
      "Requirement already satisfied: packaging>=20.9 in c:\\users\\tiffany\\appdata\\local\\packages\\pythonsoftwarefoundation.python.3.11_qbz5n2kfra8p0\\localcache\\local-packages\\python311\\site-packages (from huggingface-hub<1.0,>=0.16.4->tokenizers>=0.13.0->anthropic) (24.0)\n",
      "Requirement already satisfied: pyyaml>=5.1 in c:\\users\\tiffany\\appdata\\local\\packages\\pythonsoftwarefoundation.python.3.11_qbz5n2kfra8p0\\localcache\\local-packages\\python311\\site-packages (from huggingface-hub<1.0,>=0.16.4->tokenizers>=0.13.0->anthropic) (6.0.1)\n",
      "Requirement already satisfied: requests in c:\\users\\tiffany\\appdata\\local\\packages\\pythonsoftwarefoundation.python.3.11_qbz5n2kfra8p0\\localcache\\local-packages\\python311\\site-packages (from huggingface-hub<1.0,>=0.16.4->tokenizers>=0.13.0->anthropic) (2.31.0)\n",
      "Requirement already satisfied: tqdm>=4.42.1 in c:\\users\\tiffany\\appdata\\local\\packages\\pythonsoftwarefoundation.python.3.11_qbz5n2kfra8p0\\localcache\\local-packages\\python311\\site-packages (from huggingface-hub<1.0,>=0.16.4->tokenizers>=0.13.0->anthropic) (4.66.4)\n",
      "Requirement already satisfied: colorama in c:\\users\\tiffany\\appdata\\local\\packages\\pythonsoftwarefoundation.python.3.11_qbz5n2kfra8p0\\localcache\\local-packages\\python311\\site-packages (from tqdm>=4.42.1->huggingface-hub<1.0,>=0.16.4->tokenizers>=0.13.0->anthropic) (0.4.6)\n",
      "Requirement already satisfied: charset-normalizer<4,>=2 in c:\\users\\tiffany\\appdata\\local\\packages\\pythonsoftwarefoundation.python.3.11_qbz5n2kfra8p0\\localcache\\local-packages\\python311\\site-packages (from requests->huggingface-hub<1.0,>=0.16.4->tokenizers>=0.13.0->anthropic) (3.3.2)\n",
      "Requirement already satisfied: urllib3<3,>=1.21.1 in c:\\users\\tiffany\\appdata\\local\\packages\\pythonsoftwarefoundation.python.3.11_qbz5n2kfra8p0\\localcache\\local-packages\\python311\\site-packages (from requests->huggingface-hub<1.0,>=0.16.4->tokenizers>=0.13.0->anthropic) (2.2.1)\n"
     ]
    },
    {
     "name": "stderr",
     "output_type": "stream",
     "text": [
      "\n",
      "[notice] A new release of pip is available: 24.0 -> 24.1\n",
      "[notice] To update, run: C:\\Users\\Tiffany\\AppData\\Local\\Microsoft\\WindowsApps\\PythonSoftwareFoundation.Python.3.11_qbz5n2kfra8p0\\python.exe -m pip install --upgrade pip\n"
     ]
    }
   ],
   "source": [
    "!pip install PyPDF2 openai pandas\n",
    "!pip install anthropic"
   ]
  },
  {
   "cell_type": "code",
   "execution_count": 2,
   "metadata": {},
   "outputs": [],
   "source": [
    "import PyPDF2\n",
    "import time\n",
    "import re\n",
    "import requests\n",
    "import pandas as pd\n",
    "import anthropic \n",
    "import csv"
   ]
  },
  {
   "cell_type": "markdown",
   "metadata": {},
   "source": [
    "## Extracting Text from PDF"
   ]
  },
  {
   "cell_type": "markdown",
   "metadata": {},
   "source": [
    "Please set the parameters before use (start page, end page, pdf_path)."
   ]
  },
  {
   "cell_type": "code",
   "execution_count": 3,
   "metadata": {},
   "outputs": [
    {
     "name": "stdout",
     "output_type": "stream",
     "text": [
      "products, making quality and value received more difficult to evaluate than for tangible\n",
      "products, trust in investment professionals takes on an even greater importance. Failure\n",
      "to act in a highly ethical manner can damage not only client wealth but also impede the\n",
      "success of investment firms and investment professionals because potential investors\n",
      "will be less likely to use their services.\n",
      "Unethical behavior by financial services professionals can have negative effects for\n",
      "society as a whole. A lack of trust in financial advisors will reduce the funds entrusted\n",
      "to them and increase the cost of raising capital for business investment and growth.\n",
      "Unethical behavior such as providing incomplete, misleading, or false information to\n",
      "investors can affect the allocation of the capital that is raised.\n",
      "Ethical vs. Legal Standards\n",
      "Not all unethical actions are illegal, and not all illegal actions are unethical. Acts of\n",
      "“whistleblowing” or civil disobedience that may be illegal in some places ar\n"
     ]
    }
   ],
   "source": [
    "\n",
    "def extract_text_from_pdf(pdf_path, start_page=0, end_page=None):\n",
    "    text = \"\"\n",
    "    try:\n",
    "        with open(pdf_path, 'rb') as file:\n",
    "            reader = PyPDF2.PdfReader(file)\n",
    "            #Defaults to the last page of the PDF, I chose to skip the last section of the textbook since it was about establishing good study habits\n",
    "            end_page = end_page or len(reader.pages) \n",
    "            #Looping through the pages\n",
    "            for page_number in range(start_page, end_page):\n",
    "                page = reader.pages[page_number]\n",
    "                #Extracting the text\n",
    "                text += page.extract_text()\n",
    "    except Exception as e:\n",
    "        print(f\"Error reading PDF file: {e}\")\n",
    "    return text\n",
    "\n",
    "pdf_path = 'C:/Users/Tiffany/Desktop/MuseTax/Secret Sauce CFA Level 1.pdf'\n",
    "start_page = 4\n",
    "end_page = 230\n",
    "pdf_text = extract_text_from_pdf(pdf_path, start_page=start_page, end_page=end_page)\n",
    "print(pdf_text[:1000])  # Print to check\n"
   ]
  },
  {
   "cell_type": "markdown",
   "metadata": {},
   "source": [
    "Sources used: https://pypdf2.readthedocs.io/en/3.x/"
   ]
  },
  {
   "cell_type": "markdown",
   "metadata": {},
   "source": [
    "## Splitting the text for even distribution of knowledge points"
   ]
  },
  {
   "cell_type": "code",
   "execution_count": 4,
   "metadata": {},
   "outputs": [],
   "source": [
    "def split_text_into_sections(text, num_sections=10):\n",
    "    lines = text.split('\\n')\n",
    "    section_length = len(lines) // num_sections\n",
    "    sections = []\n",
    "    for i in range(num_sections):\n",
    "        start = i * section_length\n",
    "        end = start + section_length\n",
    "        sections.append('\\n'.join(lines[start:end]))\n",
    "    return sections\n",
    "\n",
    "sections = split_text_into_sections(pdf_text)"
   ]
  },
  {
   "cell_type": "markdown",
   "metadata": {},
   "source": [
    "## Extract Key Sentences"
   ]
  },
  {
   "cell_type": "code",
   "execution_count": 5,
   "metadata": {},
   "outputs": [],
   "source": [
    "def extract_key_sentences(section, interval=15):\n",
    "    sentences = re.split(r'(?<=[.!?]) +', section) #Splitting into sentences\n",
    "    key_sentences = []\n",
    "    for i, sentence in enumerate(sentences):\n",
    "        if i % interval == 0:  \n",
    "            sentence = sentence.strip()\n",
    "            if (len(sentence.split()) > 5 and  # Ensure the sentence is not tooo long\n",
    "                #Filters to make sure each point contains information\n",
    "                not re.match(r'^(Chapter|Study Session|Section|Unit|Table of Contents|Foreword|Appendix|Index)', sentence, re.IGNORECASE) and\n",
    "                not re.match(r'^[0-9]+.*$', sentence) and  \n",
    "                not re.search(r'\\b(CF\\d|NPV|CPT|PV)\\b', sentence)):\n",
    "                key_sentences.append(sentence)\n",
    "    return key_sentences\n",
    "\n",
    "knowledge_points = []\n",
    "for section in sections:\n",
    "    knowledge_points.extend(extract_key_sentences(section))"
   ]
  },
  {
   "cell_type": "markdown",
   "metadata": {},
   "source": [
    "## Refine Knowledge Points"
   ]
  },
  {
   "cell_type": "code",
   "execution_count": 6,
   "metadata": {},
   "outputs": [],
   "source": [
    "def refine_knowledge_points(knowledge_points):\n",
    "    refined_points = []\n",
    "    for point in knowledge_points:\n",
    "        refined_point = point.strip() #Removing trailing or leading whitespace - ok\n",
    "        if len(refined_point) > 0 and not refined_point.isspace():\n",
    "            refined_points.append(refined_point)\n",
    "    return refined_points"
   ]
  },
  {
   "cell_type": "code",
   "execution_count": 7,
   "metadata": {},
   "outputs": [],
   "source": [
    "knowledge_points = knowledge_points[:100]\n",
    "knowledge_points = refine_knowledge_points(knowledge_points)"
   ]
  },
  {
   "cell_type": "code",
   "execution_count": 8,
   "metadata": {},
   "outputs": [
    {
     "name": "stdout",
     "output_type": "stream",
     "text": [
      "1: For example,\n",
      "“The mean return on the S&P 500 \n",
      "Index is equal to zero.”\n",
      "Steps in Hypothesis Testing\n",
      "State the hypothesis.\n",
      "Select a test statistic.\n",
      "Specify the level of significance.\n",
      "State the decision rule for the hypothesis.\n",
      "Collect the sample and calculate statistics.\n",
      "Make a decision about the hypothesis.\n",
      "Make a decision based on the test results.Null and Alternative Hypotheses\n",
      "The \n",
      "null hypothesis\n",
      ", designated as H\n",
      "0\n",
      ", is the hypothesis the researcher wants to reject.\n",
      "2: A test that is unlikely to \n",
      "reject a false null hypothesis\n",
      "has little power.\n",
      "Significance Level (\n",
      "α\n",
      ")\n",
      "The \n",
      "significance level\n",
      " is the probability of \n",
      "making a Type I error (rejecting the null\n",
      "when it is true) and is designated by the \n",
      "Greek letter alpha (\n",
      "α\n",
      ").\n",
      "3: An upward\n",
      "sloping trendline can be drawn that connects the low \n",
      "points for a stock in an uptrend.\n",
      "A market is in a downtrend if prices are consistently reaching lower \n",
      "lows and retracing\n",
      "to lower highs.\n",
      "4: Some\n",
      "technical analysts interpret these indicators from a \n",
      "contrarian perspective.\n",
      "5: The y-intercept of a budget line is\n",
      "income/price of Good Y, and the x-intercept is income/price of Good X.\n",
      "An indifference curve for an individual that is higher than (to the north-east of) another\n",
      "represents a set of more preferred bundles of goods.\n",
      "6: For a given amount of capital (a firm’s plant and equipment), we can examine\n",
      "the increase in production (the total product of labor) that will result as we increase the\n",
      "amount of labor employed.\n",
      "The output with only one worker is considered the \n",
      "marginal product\n",
      " of the first unit of\n",
      "labor.\n",
      "7: Economies of scale result from factors such as labor specialization, mass\n",
      "production, and investment in more efficient equipment and technology.\n",
      "8: An increase (decrease) in demand will increase (decrease) economic profits in the short\n",
      "run under all market structures.\n",
      "9: Each\n",
      "firm will produce half the industry output and charge the same price in equilibrium.\n",
      "This is a special case of a \n",
      "Nash equilibrium\n",
      ", defined as a situation in which no firm can\n",
      "increase profits by changing its price/output choice.\n",
      "10: The resulting downward pressure on input prices will\n",
      "result in an increase in SRAS.\n"
     ]
    }
   ],
   "source": [
    "for i, point in enumerate(knowledge_points[10:20]):\n",
    "    print(f\"{i+1}: {point}\")"
   ]
  },
  {
   "cell_type": "markdown",
   "metadata": {},
   "source": [
    "## Write to CSV"
   ]
  },
  {
   "cell_type": "code",
   "execution_count": 9,
   "metadata": {},
   "outputs": [],
   "source": [
    "df = pd.DataFrame(knowledge_points, columns=['Knowledge Points'])\n",
    "df.to_csv('knowledge_points.csv', index=False)"
   ]
  }
 ],
 "metadata": {
  "kernelspec": {
   "display_name": "Python 3",
   "language": "python",
   "name": "python3"
  },
  "language_info": {
   "codemirror_mode": {
    "name": "ipython",
    "version": 3
   },
   "file_extension": ".py",
   "mimetype": "text/x-python",
   "name": "python",
   "nbconvert_exporter": "python",
   "pygments_lexer": "ipython3",
   "version": "3.11.9"
  }
 },
 "nbformat": 4,
 "nbformat_minor": 2
}
